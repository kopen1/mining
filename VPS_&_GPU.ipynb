{
  "nbformat": 4,
  "nbformat_minor": 0,
  "metadata": {
    "accelerator": "GPU",
    "colab": {
      "name": "vps & GPU",
      "provenance": [],
      "collapsed_sections": [],
      "machine_shape": "hm"
    },
    "kernelspec": {
      "display_name": "Python 3",
      "name": "python3"
    }
  },
  "cells": [
    {
      "cell_type": "code",
      "metadata": {
        "id": "FgqF2w_EO1cq",
        "cellView": "form"
      },
      "source": [
        "#@title ** CHECK GPU **\n",
        "gpu_info = ! nvidia-smi\n",
        "gpu_info = '\\n'.join(gpu_info)\n",
        "if gpu_info.find('V100') >=0:\n",
        "  print(gpu_info)\n",
        "elif gpu_info.find('P100') >=0:\n",
        "  print(gpu_info)\n",
        "elif gpu_info.find('T4') >=0:\n",
        "  print(gpu_info)\n",
        "elif gpu_info.find('P4') >=0:\n",
        "  print(gpu_info)\n",
        "elif gpu_info.find('K80') >=0:\n",
        "  print(\"YAAH DAPET K80\")\n",
        "else :\n",
        "  print(\"GPU HARI INI HABIS | BESOK LAGI COK\")"
      ],
      "execution_count": null,
      "outputs": []
    },
    {
      "cell_type": "markdown",
      "metadata": {
        "id": "XxShQV5-Yi-d"
      },
      "source": [
        ""
      ]
    },
    {
      "cell_type": "code",
      "metadata": {
        "id": "t4y2juaMig4q",
        "cellView": "form"
      },
      "source": [
        "from IPython.display import clear_output\n",
        " \n",
        "#@title **install ssh/vps**\n",
        " \n",
        "! apt install --yes ssh screen nano htop ranger git > /dev/null\n",
        " \n",
        "! echo \"root:irkop\" | chpasswd\n",
        " \n",
        "! echo \"PasswordAuthentication yes\" > /etc/ssh/sshd_config\n",
        " \n",
        "! echo \"PermitUserEnvironment yes\" >> /etc/ssh/sshd_config\n",
        " \n",
        "! echo \"PermitRootLogin yes\" >> /etc/ssh/sshd_config\n",
        " \n",
        "! service ssh restart > /dev/null\n",
        " \n",
        "#ngrok\n",
        " \n",
        "from pathlib import Path\n",
        "my_file = Path(\"ngrok\")\n",
        "if my_file.is_file():\n",
        "    print (\"ada\")\n",
        "else:\n",
        " ! wget  https://bin.equinox.io/c/4VmDzA7iaHb/ngrok-stable-linux-amd64.zip \n",
        " ! unzip *.zip\n",
        " \n",
        " \n",
        "clear_output()\n",
        " \n",
        "# Run ngrok\n",
        " \n",
        "authh = \"\" #@param {type:\"string\"}\n",
        " \n",
        "get_ipython().system_raw('./ngrok authtoken $authh && ./ngrok tcp 22 &')\n",
        " \n",
        "! sleep 3\n",
        " \n",
        "# Get the address for SSH\n",
        " \n",
        "import requests\n",
        " \n",
        "from re import sub\n",
        " \n",
        "r = requests.get('http://localhost:4040/api/tunnels')\n",
        " \n",
        "str_ssh = r.json()['tunnels'][0]['public_url']\n",
        " \n",
        "str_ssh = sub(\"tcp://\", \"\", str_ssh)\n",
        " \n",
        "str_ssh = sub(\":\", \" -p \", str_ssh)\n",
        " \n",
        "str_ssh = \"ssh root@\" + str_ssh\n",
        " \n",
        "print(str_ssh)"
      ],
      "execution_count": null,
      "outputs": []
    },
    {
      "cell_type": "code",
      "metadata": {
        "id": "WaE7kstjeYIv",
        "cellView": "form"
      },
      "source": [
        "\n",
        "#@title ** Sleep **\n",
        "from IPython.display import clear_output\n",
        " \n",
        "  \n",
        "j = 23\n",
        "while j > 0 :\n",
        "  clear_output(j)\n",
        "  m = 59\n",
        "  while m > 0:\n",
        "   clear_output(m)\n",
        "   s = 59\n",
        "   while s > 0:\n",
        "     clear_output(s)\n",
        "     ! sleep 1\n",
        "     print(\"Sleeping \",j,\":\",m,\":\",s)\n",
        "     s -= 1\n",
        "   m -= 1\n",
        "  j -=1\n",
        "                                       "
      ],
      "execution_count": null,
      "outputs": []
    }
  ]
}