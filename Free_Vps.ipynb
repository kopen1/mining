{
  "nbformat": 4,
  "nbformat_minor": 0,
  "metadata": {
    "colab": {
      "name": "Free Vps",
      "provenance": [],
      "collapsed_sections": []
    },
    "kernelspec": {
      "name": "python3",
      "display_name": "Python 3"
    },
    "language_info": {
      "name": "python"
    },
    "accelerator": "GPU"
  },
  "cells": [
    {
      "cell_type": "code",
      "metadata": {
        "id": "pQKD5K1pKzUX",
        "cellView": "form"
      },
      "source": [
        " \n",
        "#@title ** CHECK GPU **\n",
        "gpu_info = ! nvidia-smi\n",
        "gpu_info = '\\n'.join(gpu_info)\n",
        "if gpu_info.find('V100') >=0:\n",
        "  print(gpu_info)\n",
        "elif gpu_info.find('P100') >=0:\n",
        "  print(gpu_info)\n",
        "elif gpu_info.find('T4') >=0:\n",
        "  print(gpu_info)\n",
        "elif gpu_info.find('P4') >=0:\n",
        "  print(gpu_info)\n",
        "elif gpu_info.find('K80') >=0:\n",
        "  print(\"YAAH DAPET K80\")\n",
        "else :\n",
        "  print(\"GPU HARI INI HABIS | BESOK LAGI COK\")"
      ],
      "execution_count": null,
      "outputs": []
    },
    {
      "cell_type": "code",
      "metadata": {
        "cellView": "form",
        "id": "KkPZQ4f1hq_h"
      },
      "source": [
        "#@title **install ssh/vps**\n",
        "from IPython.display import clear_output\n",
        "! apt install --yes ssh screen nano htop ranger git > /dev/null\n",
        "! echo \"root:irkop\" | chpasswd\n",
        "! echo \"PasswordAuthentication yes\" > /etc/ssh/sshd_config\n",
        "! echo \"PermitUserEnvironment yes\" >> /etc/ssh/sshd_config\n",
        "! echo \"PermitRootLogin yes\" >> /etc/ssh/sshd_config\n",
        "! service ssh restart > /dev/null\n",
        " \n",
        " \n",
        "#@title ** Instalasi NGROK **\n",
        "from pathlib import Path\n",
        "my_file = Path(\"ngrok\")\n",
        "if my_file.is_file():\n",
        "    print (\"ada\")\n",
        "else:\n",
        " ! wget  https://bin.equinox.io/c/4VmDzA7iaHb/ngrok-stable-linux-amd64.zip \n",
        " ! unzip *.zip\n",
        " \n",
        " \n",
        "clear_output() \n",
        "# Run ngrok\n",
        "authh = \"\" #@param {type:\"string\"}\n",
        "get_ipython().system_raw('./ngrok authtoken $authh && ./ngrok tcp 22 &')\n",
        "! sleep 3 \n",
        "# Get the address for SSH\n",
        "import requests\n",
        "from re import sub\n",
        "r = requests.get('http://localhost:4040/api/tunnels')\n",
        "str_ssh = r.json()['tunnels'][0]['public_url']\n",
        "str_ssh = sub(\"tcp://\", \"\", str_ssh)\n",
        "str_ssh = sub(\":\", \" -p \", str_ssh) \n",
        "str_ssh = \"ssh root@\" + str_ssh\n",
        "print(str_ssh)"
      ],
      "execution_count": null,
      "outputs": []
    },
    {
      "cell_type": "code",
      "metadata": {
        "cellView": "form",
        "id": "E77f-0FfgMVb"
      },
      "source": [
        "#@title ** Sleep **\n",
        "from IPython.display import clear_output\n",
        "j = 23\n",
        "while j > 0 :\n",
        "  clear_output(j)\n",
        "  m = 59\n",
        "  while m > 0:\n",
        "   clear_output(m)\n",
        "   s = 59\n",
        "   while s > 0:\n",
        "     clear_output(s)\n",
        "     ! sleep 1\n",
        "     print(\"Sleeping \",j,\":\",m,\":\",s)\n",
        "     s -= 1\n",
        "   m -= 1\n",
        "  j -=1"
      ],
      "execution_count": null,
      "outputs": []
    }
  ]
}